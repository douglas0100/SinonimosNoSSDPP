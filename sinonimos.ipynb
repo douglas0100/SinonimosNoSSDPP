{
 "cells": [
  {
   "cell_type": "code",
   "execution_count": 15,
   "metadata": {},
   "outputs": [
    {
     "name": "stderr",
     "output_type": "stream",
     "text": [
      "[nltk_data] Downloading package wordnet to\n",
      "[nltk_data]     C:\\Users\\dougl\\AppData\\Roaming\\nltk_data...\n",
      "[nltk_data]   Package wordnet is already up-to-date!\n"
     ]
    },
    {
     "data": {
      "text/plain": [
       "True"
      ]
     },
     "execution_count": 15,
     "metadata": {},
     "output_type": "execute_result"
    }
   ],
   "source": [
    "import nltk\n",
    "import pandas as pd\n",
    "\n",
    "nltk.download('wordnet')"
   ]
  },
  {
   "cell_type": "code",
   "execution_count": null,
   "metadata": {},
   "outputs": [],
   "source": [
    "import pandas as pd\n",
    "from nltk.corpus import wordnet\n",
    "\n",
    "def obter_sinonimos(palavra):\n",
    "    sinonimos = []\n",
    "    for synset in wordnet.synsets(palavra):\n",
    "        for lemma in synset.lemmas():\n",
    "            sinonimos.append(lemma.name())\n",
    "    return sinonimos\n",
    "\n",
    "def unir_sinonimos_na_tabela(caminho_arquivo):\n",
    "    tabela = pd.read_csv(caminho_arquivo)\n",
    "\n",
    "    primeira_linha = tabela.columns.tolist()\n",
    "    sinonimos_encontrados = {}\n",
    "\n",
    "    for palavra in primeira_linha:\n",
    "        sinonimos = obter_sinonimos(palavra)\n",
    "        if sinonimos:\n",
    "            sinonimos_encontrados[palavra] = sinonimos\n",
    "\n",
    "    for coluna in sinonimos_encontrados:\n",
    "        tabela[coluna] = tabela[coluna].apply(lambda x: coluna if x in sinonimos_encontrados[coluna] else x)\n",
    "\n",
    "    return tabela, sinonimos_encontrados\n",
    "\n",
    "caminho_arquivo_csv = 'arXiv_resumoTitulo.csv'\n",
    "tabela_original = pd.read_csv(caminho_arquivo_csv)\n",
    "tabela_processada, sinonimos = unir_sinonimos_na_tabela(caminho_arquivo_csv)\n",
    "\n",
    "print(\"Sinônimos encontrados:\")\n",
    "for palavra, sinonimos_palavra in sinonimos.items():\n",
    "    print(f\"{palavra}: {sinonimos_palavra}\")\n",
    "\n",
    "print()\n",
    "\n",
    "# Comparar quantidade de linhas e colunas\n",
    "qtde_linhas_original = tabela_original.shape[0]\n",
    "qtde_linhas_processada = tabela_processada.shape[0]\n",
    "\n",
    "print(f\"Quantidade de linhas original: {qtde_linhas_original}\")\n",
    "print(f\"Quantidade de linhas processada: {qtde_linhas_processada}\")\n",
    "\n",
    "qtde_colunas_original = tabela_original.shape[1]\n",
    "qtde_colunas_processada = tabela_processada.shape[1]\n",
    "\n",
    "print(f\"Quantidade de colunas original: {qtde_colunas_original}\")\n",
    "print(f\"Quantidade de colunas processada: {qtde_colunas_processada}\")\n"
   ]
  },
  {
   "cell_type": "code",
   "execution_count": 24,
   "metadata": {},
   "outputs": [
    {
     "ename": "KeyError",
     "evalue": "'effort'",
     "output_type": "error",
     "traceback": [
      "\u001b[1;31m---------------------------------------------------------------------------\u001b[0m",
      "\u001b[1;31mKeyError\u001b[0m                                  Traceback (most recent call last)",
      "File \u001b[1;32mc:\\Users\\dougl\\AppData\\Local\\Programs\\Python\\Python311\\Lib\\site-packages\\pandas\\core\\indexes\\base.py:3652\u001b[0m, in \u001b[0;36mIndex.get_loc\u001b[1;34m(self, key)\u001b[0m\n\u001b[0;32m   3651\u001b[0m \u001b[39mtry\u001b[39;00m:\n\u001b[1;32m-> 3652\u001b[0m     \u001b[39mreturn\u001b[39;00m \u001b[39mself\u001b[39;49m\u001b[39m.\u001b[39;49m_engine\u001b[39m.\u001b[39;49mget_loc(casted_key)\n\u001b[0;32m   3653\u001b[0m \u001b[39mexcept\u001b[39;00m \u001b[39mKeyError\u001b[39;00m \u001b[39mas\u001b[39;00m err:\n",
      "File \u001b[1;32mc:\\Users\\dougl\\AppData\\Local\\Programs\\Python\\Python311\\Lib\\site-packages\\pandas\\_libs\\index.pyx:147\u001b[0m, in \u001b[0;36mpandas._libs.index.IndexEngine.get_loc\u001b[1;34m()\u001b[0m\n",
      "File \u001b[1;32mc:\\Users\\dougl\\AppData\\Local\\Programs\\Python\\Python311\\Lib\\site-packages\\pandas\\_libs\\index.pyx:176\u001b[0m, in \u001b[0;36mpandas._libs.index.IndexEngine.get_loc\u001b[1;34m()\u001b[0m\n",
      "File \u001b[1;32mpandas\\_libs\\hashtable_class_helper.pxi:7080\u001b[0m, in \u001b[0;36mpandas._libs.hashtable.PyObjectHashTable.get_item\u001b[1;34m()\u001b[0m\n",
      "File \u001b[1;32mpandas\\_libs\\hashtable_class_helper.pxi:7088\u001b[0m, in \u001b[0;36mpandas._libs.hashtable.PyObjectHashTable.get_item\u001b[1;34m()\u001b[0m\n",
      "\u001b[1;31mKeyError\u001b[0m: 'effort'",
      "\nThe above exception was the direct cause of the following exception:\n",
      "\u001b[1;31mKeyError\u001b[0m                                  Traceback (most recent call last)",
      "Cell \u001b[1;32mIn[24], line 36\u001b[0m\n\u001b[0;32m     34\u001b[0m caminho_arquivo_csv \u001b[39m=\u001b[39m \u001b[39m'\u001b[39m\u001b[39marXiv_resumoTitulo.csv\u001b[39m\u001b[39m'\u001b[39m\n\u001b[0;32m     35\u001b[0m tabela_original \u001b[39m=\u001b[39m pd\u001b[39m.\u001b[39mread_csv(caminho_arquivo_csv)\n\u001b[1;32m---> 36\u001b[0m tabela_processada, sinonimos \u001b[39m=\u001b[39m unir_sinonimos_na_tabela(caminho_arquivo_csv)\n\u001b[0;32m     38\u001b[0m \u001b[39mprint\u001b[39m(\u001b[39m\"\u001b[39m\u001b[39mSinônimos encontrados:\u001b[39m\u001b[39m\"\u001b[39m)\n\u001b[0;32m     39\u001b[0m \u001b[39mfor\u001b[39;00m palavra, sinonimos_palavra \u001b[39min\u001b[39;00m sinonimos\u001b[39m.\u001b[39mitems():\n",
      "Cell \u001b[1;32mIn[24], line 29\u001b[0m, in \u001b[0;36munir_sinonimos_na_tabela\u001b[1;34m(caminho_arquivo)\u001b[0m\n\u001b[0;32m     27\u001b[0m             \u001b[39mbreak\u001b[39;00m\n\u001b[0;32m     28\u001b[0m     \u001b[39mif\u001b[39;00m coluna_unificada \u001b[39mand\u001b[39;00m coluna_unificada \u001b[39m!=\u001b[39m coluna:\n\u001b[1;32m---> 29\u001b[0m         tabela[coluna_unificada] \u001b[39m=\u001b[39m tabela[coluna_unificada]\u001b[39m.\u001b[39mfillna(tabela[coluna])\n\u001b[0;32m     30\u001b[0m         \u001b[39mdel\u001b[39;00m tabela[coluna]\n\u001b[0;32m     32\u001b[0m \u001b[39mreturn\u001b[39;00m tabela, sinonimos_encontrados\n",
      "File \u001b[1;32mc:\\Users\\dougl\\AppData\\Local\\Programs\\Python\\Python311\\Lib\\site-packages\\pandas\\core\\frame.py:3761\u001b[0m, in \u001b[0;36mDataFrame.__getitem__\u001b[1;34m(self, key)\u001b[0m\n\u001b[0;32m   3759\u001b[0m \u001b[39mif\u001b[39;00m \u001b[39mself\u001b[39m\u001b[39m.\u001b[39mcolumns\u001b[39m.\u001b[39mnlevels \u001b[39m>\u001b[39m \u001b[39m1\u001b[39m:\n\u001b[0;32m   3760\u001b[0m     \u001b[39mreturn\u001b[39;00m \u001b[39mself\u001b[39m\u001b[39m.\u001b[39m_getitem_multilevel(key)\n\u001b[1;32m-> 3761\u001b[0m indexer \u001b[39m=\u001b[39m \u001b[39mself\u001b[39;49m\u001b[39m.\u001b[39;49mcolumns\u001b[39m.\u001b[39;49mget_loc(key)\n\u001b[0;32m   3762\u001b[0m \u001b[39mif\u001b[39;00m is_integer(indexer):\n\u001b[0;32m   3763\u001b[0m     indexer \u001b[39m=\u001b[39m [indexer]\n",
      "File \u001b[1;32mc:\\Users\\dougl\\AppData\\Local\\Programs\\Python\\Python311\\Lib\\site-packages\\pandas\\core\\indexes\\base.py:3654\u001b[0m, in \u001b[0;36mIndex.get_loc\u001b[1;34m(self, key)\u001b[0m\n\u001b[0;32m   3652\u001b[0m     \u001b[39mreturn\u001b[39;00m \u001b[39mself\u001b[39m\u001b[39m.\u001b[39m_engine\u001b[39m.\u001b[39mget_loc(casted_key)\n\u001b[0;32m   3653\u001b[0m \u001b[39mexcept\u001b[39;00m \u001b[39mKeyError\u001b[39;00m \u001b[39mas\u001b[39;00m err:\n\u001b[1;32m-> 3654\u001b[0m     \u001b[39mraise\u001b[39;00m \u001b[39mKeyError\u001b[39;00m(key) \u001b[39mfrom\u001b[39;00m \u001b[39merr\u001b[39;00m\n\u001b[0;32m   3655\u001b[0m \u001b[39mexcept\u001b[39;00m \u001b[39mTypeError\u001b[39;00m:\n\u001b[0;32m   3656\u001b[0m     \u001b[39m# If we have a listlike key, _check_indexing_error will raise\u001b[39;00m\n\u001b[0;32m   3657\u001b[0m     \u001b[39m#  InvalidIndexError. Otherwise we fall through and re-raise\u001b[39;00m\n\u001b[0;32m   3658\u001b[0m     \u001b[39m#  the TypeError.\u001b[39;00m\n\u001b[0;32m   3659\u001b[0m     \u001b[39mself\u001b[39m\u001b[39m.\u001b[39m_check_indexing_error(key)\n",
      "\u001b[1;31mKeyError\u001b[0m: 'effort'"
     ]
    }
   ],
   "source": [
    "import pandas as pd\n",
    "from nltk.corpus import wordnet\n",
    "\n",
    "def obter_sinonimos(palavra):\n",
    "    sinonimos = []\n",
    "    for synset in wordnet.synsets(palavra):\n",
    "        for lemma in synset.lemmas():\n",
    "            sinonimos.append(lemma.name())\n",
    "    return sinonimos\n",
    "\n",
    "def unir_sinonimos_na_tabela(caminho_arquivo):\n",
    "    tabela = pd.read_csv(caminho_arquivo)\n",
    "\n",
    "    primeira_linha = tabela.columns.tolist()\n",
    "    sinonimos_encontrados = {}\n",
    "\n",
    "    for palavra in primeira_linha:\n",
    "        sinonimos = obter_sinonimos(palavra)\n",
    "        if sinonimos:\n",
    "            sinonimos_encontrados[palavra] = sinonimos\n",
    "\n",
    "    for coluna in sinonimos_encontrados:\n",
    "        coluna_unificada = None\n",
    "        for palavra, sinonimos in sinonimos_encontrados.items():\n",
    "            if coluna in sinonimos:\n",
    "                coluna_unificada = palavra\n",
    "                break\n",
    "        if coluna_unificada and coluna_unificada != coluna:\n",
    "            tabela[coluna_unificada] = tabela[coluna_unificada].fillna(tabela[coluna])\n",
    "            del tabela[coluna]\n",
    "\n",
    "    return tabela, sinonimos_encontrados\n",
    "\n",
    "caminho_arquivo_csv = 'arXiv_resumoTitulo.csv'\n",
    "tabela_original = pd.read_csv(caminho_arquivo_csv)\n",
    "tabela_processada, sinonimos = unir_sinonimos_na_tabela(caminho_arquivo_csv)\n",
    "\n",
    "print(\"Sinônimos encontrados:\")\n",
    "for palavra, sinonimos_palavra in sinonimos.items():\n",
    "    print(f\"{palavra}: {sinonimos_palavra}\")\n",
    "\n",
    "print()\n",
    "\n",
    "# Comparar quantidade de linhas e colunas\n",
    "qtde_linhas_original = tabela_original.shape[0]\n",
    "qtde_linhas_processada = tabela_processada.shape[0]\n",
    "\n",
    "print(f\"Quantidade de linhas original: {qtde_linhas_original}\")\n",
    "print(f\"Quantidade de linhas processada: {qtde_linhas_processada}\")\n",
    "\n",
    "qtde_colunas_original = tabela_original.shape[1]\n",
    "qtde_colunas_processada = tabela_processada.shape[1]\n",
    "\n",
    "print(f\"Quantidade de colunas original: {qtde_colunas_original}\")\n",
    "print(f\"Quantidade de colunas processada: {qtde_colunas_processada}\")\n",
    "\n",
    "print()\n",
    "\n",
    "print(\"Tabela processada:\")\n",
    "print(tabela_processada.to_string(index=False))\n"
   ]
  }
 ],
 "metadata": {
  "kernelspec": {
   "display_name": "Python 3",
   "language": "python",
   "name": "python3"
  },
  "language_info": {
   "codemirror_mode": {
    "name": "ipython",
    "version": 3
   },
   "file_extension": ".py",
   "mimetype": "text/x-python",
   "name": "python",
   "nbconvert_exporter": "python",
   "pygments_lexer": "ipython3",
   "version": "3.11.2"
  },
  "orig_nbformat": 4
 },
 "nbformat": 4,
 "nbformat_minor": 2
}
